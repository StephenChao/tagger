{
 "cells": [
  {
   "cell_type": "code",
   "execution_count": 1,
   "metadata": {},
   "outputs": [
    {
     "name": "stderr",
     "output_type": "stream",
     "text": [
      "/home/pku/zhaoyz/anaconda3/lib/python3.8/site-packages/scipy/__init__.py:138: UserWarning: A NumPy version >=1.16.5 and <1.23.0 is required for this version of SciPy (detected version 1.23.4)\n",
      "  warnings.warn(f\"A NumPy version >={np_minversion} and <{np_maxversion} is required for this version of \"\n"
     ]
    }
   ],
   "source": [
    "\n",
    "import random\n",
    "import pandas as pd\n",
    "import numpy as np\n",
    "import matplotlib as mpl\n",
    "import matplotlib.pyplot as plt\n",
    "import mplhep as hep\n",
    "import boost_histogram as bh\n",
    "import awkward as ak\n",
    "\n",
    "from sklearn.metrics import classification_report, roc_auc_score\n",
    "from scipy import interpolate\n",
    "from sklearn.metrics import roc_curve, auc\n",
    "from cycler import cycler\n",
    "# from awkward import ak\n",
    "\n",
    "import uproot ## means uproot4\n",
    "import sklearn.metrics as m\n",
    "\n",
    "use_helvet = False ## true: use helvetica for plots, make sure the system have the font installed\n",
    "if use_helvet:\n",
    "    CMShelvet = hep.style.CMS\n",
    "    CMShelvet['font.sans-serif'] = ['Helvetica', 'Arial']\n",
    "    plt.style.use(CMShelvet)\n",
    "else:\n",
    "    plt.style.use(hep.style.CMS)\n",
    "\n",
    "\n",
    "CustNano = {\n",
    "    \"ttH(nonbb)\"          : \"/data/pubfs/zhaoyz/CustNano/2018/Signal_MERGED/ttHToNonbb_M125_TuneCP5_13TeV-powheg-pythia8_RunIISummer20UL18MiniAODv2-106X_upgrade2018_realistic_v16_L1v1-v2/MERGED.root\",\n",
    "}\n",
    "samples = {process : {} for process in CustNano}\n",
    "for process in CustNano:\n",
    "    samples[process] = uproot.lazy({CustNano[process]: \"Events\" }) "
   ]
  },
  {
   "cell_type": "code",
   "execution_count": 2,
   "metadata": {},
   "outputs": [
    {
     "name": "stdout",
     "output_type": "stream",
     "text": [
      "nGenJetAK15\n",
      "GenJetAK15_eta\n",
      "GenJetAK15_mass\n",
      "GenJetAK15_phi\n",
      "GenJetAK15_pt\n",
      "nGenJetAK8\n",
      "GenJetAK8_eta\n",
      "GenJetAK8_mass\n",
      "GenJetAK8_phi\n",
      "GenJetAK8_pt\n",
      "nGenJet\n",
      "GenJet_eta\n",
      "GenJet_mass\n",
      "GenJet_phi\n",
      "GenJet_pt\n",
      "nGenPart\n",
      "GenPart_eta\n",
      "GenPart_mass\n",
      "GenPart_phi\n",
      "GenPart_pt\n",
      "GenPart_genPartIdxMother\n",
      "GenPart_pdgId\n",
      "GenPart_status\n",
      "GenPart_statusFlags\n",
      "nGenSubJetAK15\n",
      "GenSubJetAK15_eta\n",
      "GenSubJetAK15_mass\n",
      "GenSubJetAK15_phi\n",
      "GenSubJetAK15_pt\n",
      "nSubGenJetAK8\n",
      "SubGenJetAK8_eta\n",
      "SubGenJetAK8_mass\n",
      "SubGenJetAK8_phi\n",
      "SubGenJetAK8_pt\n",
      "Generator_binvar\n",
      "Generator_scalePDF\n",
      "Generator_weight\n",
      "Generator_x1\n",
      "Generator_x2\n",
      "Generator_xpdf1\n",
      "Generator_xpdf2\n",
      "Generator_id1\n",
      "Generator_id2\n",
      "GenVtx_x\n",
      "GenVtx_y\n",
      "GenVtx_z\n",
      "nGenVisTau\n",
      "GenVisTau_eta\n",
      "GenVisTau_mass\n",
      "GenVisTau_phi\n",
      "GenVisTau_pt\n",
      "GenVisTau_charge\n",
      "GenVisTau_genPartIdxMother\n",
      "GenVisTau_status\n",
      "GenMET_phi\n",
      "GenMET_pt\n",
      "nGenDressedLepton\n",
      "GenDressedLepton_eta\n",
      "GenDressedLepton_mass\n",
      "GenDressedLepton_phi\n",
      "GenDressedLepton_pt\n",
      "GenDressedLepton_pdgId\n",
      "GenDressedLepton_hasTauAnc\n",
      "nGenIsolatedPhoton\n",
      "GenIsolatedPhoton_eta\n",
      "GenIsolatedPhoton_mass\n",
      "GenIsolatedPhoton_phi\n",
      "GenIsolatedPhoton_pt\n",
      "GenJetAK8_partonFlavour\n",
      "GenJetAK8_hadronFlavour\n",
      "GenJet_partonFlavour\n",
      "GenJet_hadronFlavour\n",
      "GenVtx_t0\n",
      "MET_fiducialGenPhi\n",
      "MET_fiducialGenPt\n"
     ]
    }
   ],
   "source": [
    "#Show the branching related to GEN:\n",
    "for keys in samples[\"ttH(nonbb)\"].fields:\n",
    "    if \"Gen\" in keys: print(keys)"
   ]
  },
  {
   "attachments": {},
   "cell_type": "markdown",
   "metadata": {},
   "source": [
    "### Here is an example for what I want to do:"
   ]
  },
  {
   "cell_type": "code",
   "execution_count": 3,
   "metadata": {},
   "outputs": [
    {
     "name": "stdout",
     "output_type": "stream",
     "text": [
      "All events: [[False, False, False, False, False, False, ... False, False, False, False, False]]\n",
      "For example in 0th event: [False, False, False, False, False, False, ... False, False, False, False, False]\n"
     ]
    }
   ],
   "source": [
    "#Show the lastcopy Higgs in each event.\n",
    "islastcopyH = (np.bitwise_and(samples[\"ttH(nonbb)\"][\"GenPart_statusFlags\"], (1<<13) ) > 0) & (samples[\"ttH(nonbb)\"][\"GenPart_pdgId\"] == 25)\n",
    "print(\"All events:\",islastcopyH)\n",
    "print(\"For example in 0th event:\",islastcopyH[0])"
   ]
  },
  {
   "cell_type": "code",
   "execution_count": 8,
   "metadata": {},
   "outputs": [
    {
     "name": "stdout",
     "output_type": "stream",
     "text": [
      "For example, the index(aka.PID) of last copy Higgs in 0th event is 10\n"
     ]
    }
   ],
   "source": [
    "print(\"For example, the index(aka.PID) of last copy Higgs in 0th event is\",np.where(islastcopyH[0] == True)[0][0])"
   ]
  },
  {
   "cell_type": "code",
   "execution_count": 15,
   "metadata": {},
   "outputs": [
    {
     "name": "stdout",
     "output_type": "stream",
     "text": [
      "Then, the 2 daughter's pdgId of last copy Higgs in 0th event is [24, -24]\n",
      "So the Higgs in 0th events decays into 2Ws.\n"
     ]
    }
   ],
   "source": [
    "print(\"Then, the 2 daughter's pdgId of last copy Higgs in 0th event is\",samples[\"ttH(nonbb)\"][\"GenPart_pdgId\"][0][samples[\"ttH(nonbb)\"][\"GenPart_genPartIdxMother\"][0] == np.where(islastcopyH[0] == True)[0][0]])\n",
    "print(\"So the Higgs in 0th events decays into 2Ws.\")"
   ]
  },
  {
   "attachments": {},
   "cell_type": "markdown",
   "metadata": {},
   "source": [
    "### Bug occurs when we do this for all the events:"
   ]
  },
  {
   "cell_type": "code",
   "execution_count": 18,
   "metadata": {},
   "outputs": [
    {
     "ename": "ValueError",
     "evalue": "in ListOffsetArray64, cannot convert to RegularArray because subarray lengths are not regular\n\n(https://github.com/scikit-hep/awkward-1.0/blob/1.4.0/src/cpu-kernels/awkward_ListOffsetArray_toRegularArray.cpp#L22)",
     "output_type": "error",
     "traceback": [
      "\u001b[0;31m---------------------------------------------------------------------------\u001b[0m",
      "\u001b[0;31mValueError\u001b[0m                                Traceback (most recent call last)",
      "Cell \u001b[0;32mIn [18], line 1\u001b[0m\n\u001b[0;32m----> 1\u001b[0m ak\u001b[39m.\u001b[39;49mwhere(islastcopyH \u001b[39m==\u001b[39;49m \u001b[39mTrue\u001b[39;49;00m ,highlevel \u001b[39m=\u001b[39;49m \u001b[39mTrue\u001b[39;49;00m)\n",
      "File \u001b[0;32m~/.local/lib/python3.8/site-packages/awkward/operations/structure.py:1678\u001b[0m, in \u001b[0;36mwhere\u001b[0;34m(condition, *args, **kwargs)\u001b[0m\n\u001b[1;32m   1675\u001b[0m nplike \u001b[39m=\u001b[39m ak\u001b[39m.\u001b[39mnplike\u001b[39m.\u001b[39mof(akcondition)\n\u001b[1;32m   1676\u001b[0m \u001b[39mif\u001b[39;00m \u001b[39misinstance\u001b[39m(akcondition, ak\u001b[39m.\u001b[39mpartition\u001b[39m.\u001b[39mPartitionedArray):\n\u001b[1;32m   1677\u001b[0m     akcondition \u001b[39m=\u001b[39m akcondition\u001b[39m.\u001b[39mreplace_partitions(\n\u001b[0;32m-> 1678\u001b[0m         [\n\u001b[1;32m   1679\u001b[0m             ak\u001b[39m.\u001b[39mlayout\u001b[39m.\u001b[39mNumpyArray(ak\u001b[39m.\u001b[39moperations\u001b[39m.\u001b[39mconvert\u001b[39m.\u001b[39mto_numpy(x))\n\u001b[1;32m   1680\u001b[0m             \u001b[39mfor\u001b[39;00m x \u001b[39min\u001b[39;00m akcondition\u001b[39m.\u001b[39mpartitions\n\u001b[1;32m   1681\u001b[0m         ]\n\u001b[1;32m   1682\u001b[0m     )\n\u001b[1;32m   1683\u001b[0m \u001b[39melse\u001b[39;00m:\n\u001b[1;32m   1684\u001b[0m     akcondition \u001b[39m=\u001b[39m ak\u001b[39m.\u001b[39mlayout\u001b[39m.\u001b[39mNumpyArray(\n\u001b[1;32m   1685\u001b[0m         ak\u001b[39m.\u001b[39moperations\u001b[39m.\u001b[39mconvert\u001b[39m.\u001b[39mto_numpy(akcondition)\n\u001b[1;32m   1686\u001b[0m     )\n",
      "File \u001b[0;32m~/.local/lib/python3.8/site-packages/awkward/operations/structure.py:1679\u001b[0m, in \u001b[0;36m<listcomp>\u001b[0;34m(.0)\u001b[0m\n\u001b[1;32m   1675\u001b[0m nplike \u001b[39m=\u001b[39m ak\u001b[39m.\u001b[39mnplike\u001b[39m.\u001b[39mof(akcondition)\n\u001b[1;32m   1676\u001b[0m \u001b[39mif\u001b[39;00m \u001b[39misinstance\u001b[39m(akcondition, ak\u001b[39m.\u001b[39mpartition\u001b[39m.\u001b[39mPartitionedArray):\n\u001b[1;32m   1677\u001b[0m     akcondition \u001b[39m=\u001b[39m akcondition\u001b[39m.\u001b[39mreplace_partitions(\n\u001b[1;32m   1678\u001b[0m         [\n\u001b[0;32m-> 1679\u001b[0m             ak\u001b[39m.\u001b[39mlayout\u001b[39m.\u001b[39mNumpyArray(ak\u001b[39m.\u001b[39;49moperations\u001b[39m.\u001b[39;49mconvert\u001b[39m.\u001b[39;49mto_numpy(x))\n\u001b[1;32m   1680\u001b[0m             \u001b[39mfor\u001b[39;00m x \u001b[39min\u001b[39;00m akcondition\u001b[39m.\u001b[39mpartitions\n\u001b[1;32m   1681\u001b[0m         ]\n\u001b[1;32m   1682\u001b[0m     )\n\u001b[1;32m   1683\u001b[0m \u001b[39melse\u001b[39;00m:\n\u001b[1;32m   1684\u001b[0m     akcondition \u001b[39m=\u001b[39m ak\u001b[39m.\u001b[39mlayout\u001b[39m.\u001b[39mNumpyArray(\n\u001b[1;32m   1685\u001b[0m         ak\u001b[39m.\u001b[39moperations\u001b[39m.\u001b[39mconvert\u001b[39m.\u001b[39mto_numpy(akcondition)\n\u001b[1;32m   1686\u001b[0m     )\n",
      "File \u001b[0;32m~/.local/lib/python3.8/site-packages/awkward/operations/convert.py:332\u001b[0m, in \u001b[0;36mto_numpy\u001b[0;34m(array, allow_missing)\u001b[0m\n\u001b[1;32m    329\u001b[0m     \u001b[39mreturn\u001b[39;00m out[: shape[\u001b[39m0\u001b[39m] \u001b[39m*\u001b[39m array\u001b[39m.\u001b[39msize]\u001b[39m.\u001b[39mreshape(shape)\n\u001b[1;32m    331\u001b[0m \u001b[39melif\u001b[39;00m \u001b[39misinstance\u001b[39m(array, ak\u001b[39m.\u001b[39m_util\u001b[39m.\u001b[39mlisttypes):\n\u001b[0;32m--> 332\u001b[0m     \u001b[39mreturn\u001b[39;00m to_numpy(array\u001b[39m.\u001b[39;49mtoRegularArray(), allow_missing\u001b[39m=\u001b[39mallow_missing)\n\u001b[1;32m    334\u001b[0m \u001b[39melif\u001b[39;00m \u001b[39misinstance\u001b[39m(array, ak\u001b[39m.\u001b[39m_util\u001b[39m.\u001b[39mrecordtypes):\n\u001b[1;32m    335\u001b[0m     \u001b[39mif\u001b[39;00m array\u001b[39m.\u001b[39mnumfields \u001b[39m==\u001b[39m \u001b[39m0\u001b[39m:\n",
      "\u001b[0;31mValueError\u001b[0m: in ListOffsetArray64, cannot convert to RegularArray because subarray lengths are not regular\n\n(https://github.com/scikit-hep/awkward-1.0/blob/1.4.0/src/cpu-kernels/awkward_ListOffsetArray_toRegularArray.cpp#L22)"
     ]
    }
   ],
   "source": [
    "ak.where(islastcopyH == True ,highlevel = True)"
   ]
  },
  {
   "attachments": {},
   "cell_type": "markdown",
   "metadata": {},
   "source": [
    "### For the same reason we can't do:"
   ]
  },
  {
   "cell_type": "code",
   "execution_count": 19,
   "metadata": {},
   "outputs": [
    {
     "ename": "ValueError",
     "evalue": "in ListOffsetArray64, cannot convert to RegularArray because subarray lengths are not regular\n\n(https://github.com/scikit-hep/awkward-1.0/blob/1.4.0/src/cpu-kernels/awkward_ListOffsetArray_toRegularArray.cpp#L22)",
     "output_type": "error",
     "traceback": [
      "\u001b[0;31m---------------------------------------------------------------------------\u001b[0m",
      "\u001b[0;31mValueError\u001b[0m                                Traceback (most recent call last)",
      "Cell \u001b[0;32mIn [19], line 1\u001b[0m\n\u001b[0;32m----> 1\u001b[0m daughterPDGid \u001b[39m=\u001b[39m samples[\u001b[39m\"\u001b[39m\u001b[39mttH(nonbb)\u001b[39m\u001b[39m\"\u001b[39m][\u001b[39m\"\u001b[39m\u001b[39mGenPart_pdgId\u001b[39m\u001b[39m\"\u001b[39m][samples[\u001b[39m\"\u001b[39m\u001b[39mttH(nonbb)\u001b[39m\u001b[39m\"\u001b[39m][\u001b[39m\"\u001b[39m\u001b[39mGenPart_genPartIdxMother\u001b[39m\u001b[39m\"\u001b[39m] \u001b[39m==\u001b[39m np\u001b[39m.\u001b[39;49mwhere(islastcopyH \u001b[39m==\u001b[39;49m \u001b[39mTrue\u001b[39;49;00m)[\u001b[39m0\u001b[39m][\u001b[39m0\u001b[39m]]\n",
      "File \u001b[0;32m<__array_function__ internals>:180\u001b[0m, in \u001b[0;36mwhere\u001b[0;34m(*args, **kwargs)\u001b[0m\n",
      "File \u001b[0;32m~/.local/lib/python3.8/site-packages/awkward/highlevel.py:1436\u001b[0m, in \u001b[0;36mArray.__array_function__\u001b[0;34m(self, func, types, args, kwargs)\u001b[0m\n\u001b[1;32m   1419\u001b[0m \u001b[39mdef\u001b[39;00m \u001b[39m__array_function__\u001b[39m(\u001b[39mself\u001b[39m, func, types, args, kwargs):\n\u001b[1;32m   1420\u001b[0m     \u001b[39m\"\"\"\u001b[39;00m\n\u001b[1;32m   1421\u001b[0m \u001b[39m    Intercepts attempts to pass this Array to those NumPy functions other\u001b[39;00m\n\u001b[1;32m   1422\u001b[0m \u001b[39m    than universal functions that have an Awkward equivalent.\u001b[39;00m\n\u001b[0;32m   (...)\u001b[0m\n\u001b[1;32m   1434\u001b[0m \u001b[39m    See also #__array_ufunc__.\u001b[39;00m\n\u001b[1;32m   1435\u001b[0m \u001b[39m    \"\"\"\u001b[39;00m\n\u001b[0;32m-> 1436\u001b[0m     \u001b[39mreturn\u001b[39;00m ak\u001b[39m.\u001b[39;49m_connect\u001b[39m.\u001b[39;49m_numpy\u001b[39m.\u001b[39;49marray_function(func, types, args, kwargs)\n",
      "File \u001b[0;32m~/.local/lib/python3.8/site-packages/awkward/_connect/_numpy.py:28\u001b[0m, in \u001b[0;36marray_function\u001b[0;34m(func, types, args, kwargs)\u001b[0m\n\u001b[1;32m     26\u001b[0m     \u001b[39mreturn\u001b[39;00m \u001b[39mNotImplemented\u001b[39m\n\u001b[1;32m     27\u001b[0m \u001b[39melse\u001b[39;00m:\n\u001b[0;32m---> 28\u001b[0m     \u001b[39mreturn\u001b[39;00m function(\u001b[39m*\u001b[39;49margs, \u001b[39m*\u001b[39;49m\u001b[39m*\u001b[39;49mkwargs)\n",
      "File \u001b[0;32m~/.local/lib/python3.8/site-packages/awkward/operations/structure.py:1678\u001b[0m, in \u001b[0;36mwhere\u001b[0;34m(condition, *args, **kwargs)\u001b[0m\n\u001b[1;32m   1675\u001b[0m nplike \u001b[39m=\u001b[39m ak\u001b[39m.\u001b[39mnplike\u001b[39m.\u001b[39mof(akcondition)\n\u001b[1;32m   1676\u001b[0m \u001b[39mif\u001b[39;00m \u001b[39misinstance\u001b[39m(akcondition, ak\u001b[39m.\u001b[39mpartition\u001b[39m.\u001b[39mPartitionedArray):\n\u001b[1;32m   1677\u001b[0m     akcondition \u001b[39m=\u001b[39m akcondition\u001b[39m.\u001b[39mreplace_partitions(\n\u001b[0;32m-> 1678\u001b[0m         [\n\u001b[1;32m   1679\u001b[0m             ak\u001b[39m.\u001b[39mlayout\u001b[39m.\u001b[39mNumpyArray(ak\u001b[39m.\u001b[39moperations\u001b[39m.\u001b[39mconvert\u001b[39m.\u001b[39mto_numpy(x))\n\u001b[1;32m   1680\u001b[0m             \u001b[39mfor\u001b[39;00m x \u001b[39min\u001b[39;00m akcondition\u001b[39m.\u001b[39mpartitions\n\u001b[1;32m   1681\u001b[0m         ]\n\u001b[1;32m   1682\u001b[0m     )\n\u001b[1;32m   1683\u001b[0m \u001b[39melse\u001b[39;00m:\n\u001b[1;32m   1684\u001b[0m     akcondition \u001b[39m=\u001b[39m ak\u001b[39m.\u001b[39mlayout\u001b[39m.\u001b[39mNumpyArray(\n\u001b[1;32m   1685\u001b[0m         ak\u001b[39m.\u001b[39moperations\u001b[39m.\u001b[39mconvert\u001b[39m.\u001b[39mto_numpy(akcondition)\n\u001b[1;32m   1686\u001b[0m     )\n",
      "File \u001b[0;32m~/.local/lib/python3.8/site-packages/awkward/operations/structure.py:1679\u001b[0m, in \u001b[0;36m<listcomp>\u001b[0;34m(.0)\u001b[0m\n\u001b[1;32m   1675\u001b[0m nplike \u001b[39m=\u001b[39m ak\u001b[39m.\u001b[39mnplike\u001b[39m.\u001b[39mof(akcondition)\n\u001b[1;32m   1676\u001b[0m \u001b[39mif\u001b[39;00m \u001b[39misinstance\u001b[39m(akcondition, ak\u001b[39m.\u001b[39mpartition\u001b[39m.\u001b[39mPartitionedArray):\n\u001b[1;32m   1677\u001b[0m     akcondition \u001b[39m=\u001b[39m akcondition\u001b[39m.\u001b[39mreplace_partitions(\n\u001b[1;32m   1678\u001b[0m         [\n\u001b[0;32m-> 1679\u001b[0m             ak\u001b[39m.\u001b[39mlayout\u001b[39m.\u001b[39mNumpyArray(ak\u001b[39m.\u001b[39;49moperations\u001b[39m.\u001b[39;49mconvert\u001b[39m.\u001b[39;49mto_numpy(x))\n\u001b[1;32m   1680\u001b[0m             \u001b[39mfor\u001b[39;00m x \u001b[39min\u001b[39;00m akcondition\u001b[39m.\u001b[39mpartitions\n\u001b[1;32m   1681\u001b[0m         ]\n\u001b[1;32m   1682\u001b[0m     )\n\u001b[1;32m   1683\u001b[0m \u001b[39melse\u001b[39;00m:\n\u001b[1;32m   1684\u001b[0m     akcondition \u001b[39m=\u001b[39m ak\u001b[39m.\u001b[39mlayout\u001b[39m.\u001b[39mNumpyArray(\n\u001b[1;32m   1685\u001b[0m         ak\u001b[39m.\u001b[39moperations\u001b[39m.\u001b[39mconvert\u001b[39m.\u001b[39mto_numpy(akcondition)\n\u001b[1;32m   1686\u001b[0m     )\n",
      "File \u001b[0;32m~/.local/lib/python3.8/site-packages/awkward/operations/convert.py:332\u001b[0m, in \u001b[0;36mto_numpy\u001b[0;34m(array, allow_missing)\u001b[0m\n\u001b[1;32m    329\u001b[0m     \u001b[39mreturn\u001b[39;00m out[: shape[\u001b[39m0\u001b[39m] \u001b[39m*\u001b[39m array\u001b[39m.\u001b[39msize]\u001b[39m.\u001b[39mreshape(shape)\n\u001b[1;32m    331\u001b[0m \u001b[39melif\u001b[39;00m \u001b[39misinstance\u001b[39m(array, ak\u001b[39m.\u001b[39m_util\u001b[39m.\u001b[39mlisttypes):\n\u001b[0;32m--> 332\u001b[0m     \u001b[39mreturn\u001b[39;00m to_numpy(array\u001b[39m.\u001b[39;49mtoRegularArray(), allow_missing\u001b[39m=\u001b[39mallow_missing)\n\u001b[1;32m    334\u001b[0m \u001b[39melif\u001b[39;00m \u001b[39misinstance\u001b[39m(array, ak\u001b[39m.\u001b[39m_util\u001b[39m.\u001b[39mrecordtypes):\n\u001b[1;32m    335\u001b[0m     \u001b[39mif\u001b[39;00m array\u001b[39m.\u001b[39mnumfields \u001b[39m==\u001b[39m \u001b[39m0\u001b[39m:\n",
      "\u001b[0;31mValueError\u001b[0m: in ListOffsetArray64, cannot convert to RegularArray because subarray lengths are not regular\n\n(https://github.com/scikit-hep/awkward-1.0/blob/1.4.0/src/cpu-kernels/awkward_ListOffsetArray_toRegularArray.cpp#L22)"
     ]
    }
   ],
   "source": [
    "daughterPDGid = samples[\"ttH(nonbb)\"][\"GenPart_pdgId\"][samples[\"ttH(nonbb)\"][\"GenPart_genPartIdxMother\"] == np.where(islastcopyH == True)[0][0]]"
   ]
  },
  {
   "cell_type": "code",
   "execution_count": null,
   "metadata": {},
   "outputs": [],
   "source": []
  }
 ],
 "metadata": {
  "kernelspec": {
   "display_name": "Python 3.8.11 ('base': conda)",
   "language": "python",
   "name": "python3"
  },
  "language_info": {
   "codemirror_mode": {
    "name": "ipython",
    "version": 3
   },
   "file_extension": ".py",
   "mimetype": "text/x-python",
   "name": "python",
   "nbconvert_exporter": "python",
   "pygments_lexer": "ipython3",
   "version": "3.8.11"
  },
  "vscode": {
   "interpreter": {
    "hash": "42b66ccadc3dcb2a548c5829117ed01e6a6676879497c63ab523657f90856c25"
   }
  }
 },
 "nbformat": 4,
 "nbformat_minor": 4
}
